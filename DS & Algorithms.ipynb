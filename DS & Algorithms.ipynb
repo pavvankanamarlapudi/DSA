{
 "cells": [
  {
   "cell_type": "code",
   "execution_count": 3,
   "metadata": {},
   "outputs": [
    {
     "data": {
      "text/plain": [
       "[1, 2, 3, 5, 7, 11, 13, 17, 19, 23, 29]"
      ]
     },
     "execution_count": 3,
     "metadata": {},
     "output_type": "execute_result"
    }
   ],
   "source": [
    "arr  = [x for x in range(1,30) if  all(x%i for i in range(2,x))]\n",
    "arr"
   ]
  },
  {
   "cell_type": "code",
   "execution_count": 28,
   "metadata": {},
   "outputs": [],
   "source": [
    "import time"
   ]
  },
  {
   "cell_type": "markdown",
   "metadata": {},
   "source": [
    "### Recurssion"
   ]
  },
  {
   "cell_type": "code",
   "execution_count": 12,
   "metadata": {},
   "outputs": [
    {
     "name": "stdout",
     "output_type": "stream",
     "text": [
      "else\n",
      "else\n",
      "else\n",
      "elif\n"
     ]
    },
    {
     "data": {
      "text/plain": [
       "'not found'"
      ]
     },
     "execution_count": 12,
     "metadata": {},
     "output_type": "execute_result"
    }
   ],
   "source": [
    "def binary_search(arr,l,r,q):\n",
    "#     l=0\n",
    "#     r=len(arr)-1\n",
    "    mid = (l+r)//2\n",
    "    if l<=r:\n",
    "        if arr[mid]==q:\n",
    "            return f\"found at {mid}\"\n",
    "        elif q<arr[mid]:\n",
    "            print('elif')\n",
    "            return binary_search(arr,l,mid-1,q)\n",
    "        else:\n",
    "            print('else')\n",
    "            return binary_search(arr,mid+1,r,q)\n",
    "    else:\n",
    "        return \"not found\"\n",
    "    \n",
    "binary_search(arr,0,len(arr)-1,24)"
   ]
  },
  {
   "cell_type": "markdown",
   "metadata": {},
   "source": [
    "### Fibanocci using recursion"
   ]
  },
  {
   "cell_type": "code",
   "execution_count": 29,
   "metadata": {
    "collapsed": true
   },
   "outputs": [
    {
     "name": "stdout",
     "output_type": "stream",
     "text": [
      "2\n",
      "************\n",
      "6\n",
      "************\n",
      "2\n",
      "************\n",
      "24\n",
      "************\n",
      "2\n",
      "************\n",
      "6\n",
      "************\n",
      "2\n",
      "************\n",
      "120\n",
      "************\n",
      "2\n",
      "************\n",
      "6\n",
      "************\n",
      "2\n",
      "************\n",
      "24\n",
      "************\n",
      "2\n",
      "************\n",
      "6\n",
      "************\n",
      "2\n",
      "************\n"
     ]
    },
    {
     "data": {
      "text/plain": [
       "120"
      ]
     },
     "execution_count": 29,
     "metadata": {},
     "output_type": "execute_result"
    }
   ],
   "source": [
    "def fact(x):\n",
    "    if x>1:\n",
    "        print(x*fact(x-1))\n",
    "        print('************')\n",
    "        time.sleep(3)\n",
    "        return x*fact(x-1)\n",
    "    else:\n",
    "        return x\n",
    "    \n",
    "fact(5)"
   ]
  },
  {
   "cell_type": "markdown",
   "metadata": {},
   "source": [
    "### Matrix Multiplication"
   ]
  },
  {
   "cell_type": "code",
   "execution_count": 31,
   "metadata": {},
   "outputs": [],
   "source": [
    "import numpy as np"
   ]
  },
  {
   "cell_type": "code",
   "execution_count": null,
   "metadata": {},
   "outputs": [],
   "source": [
    "np.array()"
   ]
  },
  {
   "cell_type": "code",
   "execution_count": 68,
   "metadata": {
    "collapsed": true
   },
   "outputs": [
    {
     "name": "stdout",
     "output_type": "stream",
     "text": [
      "mid_index:5\n",
      "*******************\n",
      "elif:11\n",
      "*******************\n",
      "mid_index:2\n",
      "*******************\n",
      "else:3\n",
      "*******************\n",
      "mid_index:3\n",
      "*******************\n",
      "else:5\n",
      "*******************\n",
      "mid_index:4\n",
      "*******************\n",
      "found at :4\n",
      "*******************\n"
     ]
    }
   ],
   "source": [
    "l = 0\n",
    "q=7\n",
    "r=len(arr)-1\n",
    "\n",
    "while l<=r:\n",
    "    mid = (l+r)//2\n",
    "    print(f'mid_index:{mid}')\n",
    "    print('*******************')\n",
    "    if arr[mid]==q:\n",
    "        print(f'found at :{mid}')\n",
    "        print('*******************')\n",
    "        break\n",
    "    elif q<arr[mid]:\n",
    "        print(f'elif:{arr[mid]}')\n",
    "        print('*******************')\n",
    "        r = mid-1\n",
    "    else:\n",
    "        print(f'else:{arr[mid]}')\n",
    "        print('*******************')\n",
    "        l= mid+1"
   ]
  },
  {
   "cell_type": "code",
   "execution_count": 78,
   "metadata": {},
   "outputs": [
    {
     "name": "stdout",
     "output_type": "stream",
     "text": [
      "startindex:0\n",
      "endindex:10\n",
      "mid_index:5\n",
      "*******************\n",
      "startindex:0\n",
      "endindex:10\n",
      "elif:value:11\n",
      "*******************\n",
      "startindex:0\n",
      "endindex:4\n",
      "mid_index:2\n",
      "*******************\n",
      "startindex:0\n",
      "endindex:4\n",
      "else:value:3\n",
      "*******************\n",
      "startindex:3\n",
      "endindex:4\n",
      "mid_index:3\n",
      "*******************\n",
      "startindex:3\n",
      "endindex:4\n",
      "found at :3\n",
      "*******************\n"
     ]
    }
   ],
   "source": [
    "l = 0\n",
    "q=5\n",
    "r=len(arr)-1\n",
    "import time\n",
    "\n",
    "while l<=r:\n",
    "    time.sleep(2)\n",
    "    mid = (l+r)//2\n",
    "    print(f'startindex:{l}')\n",
    "    print(f'endindex:{r}')\n",
    "    print(f'mid_index:{mid}')\n",
    "    print('*******************')\n",
    "    if arr[mid]==q:\n",
    "        print(f'startindex:{l}')\n",
    "        print(f'endindex:{r}')\n",
    "        print(f'found at :{mid}')\n",
    "        print('*******************')\n",
    "        break\n",
    "    elif q<arr[mid]:\n",
    "        print(f'startindex:{l}')\n",
    "        print(f'endindex:{r}')\n",
    "        print(f'elif:value:{arr[mid]}')\n",
    "        print('*******************')\n",
    "        r = mid-1\n",
    "    else:\n",
    "        print(f'startindex:{l}')\n",
    "        print(f'endindex:{r}')\n",
    "        print(f'else:value:{arr[mid]}')\n",
    "        print('*******************')\n",
    "        l= mid+1"
   ]
  }
 ],
 "metadata": {
  "kernelspec": {
   "display_name": "Python 3",
   "language": "python",
   "name": "python3"
  },
  "language_info": {
   "codemirror_mode": {
    "name": "ipython",
    "version": 3
   },
   "file_extension": ".py",
   "mimetype": "text/x-python",
   "name": "python",
   "nbconvert_exporter": "python",
   "pygments_lexer": "ipython3",
   "version": "3.6.5"
  }
 },
 "nbformat": 4,
 "nbformat_minor": 4
}
